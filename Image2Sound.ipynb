{
 "cells": [
  {
   "cell_type": "code",
   "execution_count": 68,
   "metadata": {
    "collapsed": true
   },
   "outputs": [],
   "source": [
    "import pydub\n",
    "from skimage import io,color\n",
    "import numpy as np\n",
    "import pandas as pd\n",
    "image_path = \"/home/billbrod/Pictures/WFB Brussels.jpg\""
   ]
  },
  {
   "cell_type": "code",
   "execution_count": 76,
   "metadata": {
    "collapsed": false
   },
   "outputs": [],
   "source": [
    "img = io.imread(image_path)\n",
    "#We want to use the L*a*b color space instead of RGB because it approximates human perceptual space\n",
    "lab = color.rgb2lab(img)"
   ]
  },
  {
   "cell_type": "code",
   "execution_count": 77,
   "metadata": {
    "collapsed": false
   },
   "outputs": [],
   "source": [
    "def color_df(arr,col,color_name):\n",
    "    df=pd.DataFrame(arr[:,:,col])\n",
    "    df['x'] = df.index\n",
    "    df = pd.melt(df,id_vars='x',var_name='y',value_name=color_name)\n",
    "    return df"
   ]
  },
  {
   "cell_type": "code",
   "execution_count": 80,
   "metadata": {
    "collapsed": false
   },
   "outputs": [],
   "source": [
    "L,a,b = [color_df(i,j,k) for i,j,k in zip([lab,lab,lab],[0,1,2],['L','a','b'])]\n",
    "df = pd.merge(L,pd.merge(a,b))"
   ]
  },
  {
   "cell_type": "markdown",
   "metadata": {},
   "source": [
    "Based on http://stackoverflow.com/a/29906003, $L \\in [0,100], a,b \\in [-128,127]$. We need to know our min and max in order to find our mappable range.\n",
    "\n",
    "Our color space is three dimensional ($L,a,b$) and for sound to be three dimensional, we're going to use octave ($L$), tone ($a$) and volume ($b$). Make those re-mappable, but we'll see how that works."
   ]
  }
 ],
 "metadata": {
  "kernelspec": {
   "display_name": "Python 2",
   "language": "python",
   "name": "python2"
  },
  "language_info": {
   "codemirror_mode": {
    "name": "ipython",
    "version": 2
   },
   "file_extension": ".py",
   "mimetype": "text/x-python",
   "name": "python",
   "nbconvert_exporter": "python",
   "pygments_lexer": "ipython2",
   "version": "2.7.11"
  }
 },
 "nbformat": 4,
 "nbformat_minor": 0
}
